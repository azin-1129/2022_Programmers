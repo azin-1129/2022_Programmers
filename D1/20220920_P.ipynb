{
 "cells": [
  {
   "cell_type": "markdown",
   "id": "6a073df4",
   "metadata": {},
   "source": [
    "### 정수 제곱근 판별"
   ]
  },
  {
   "cell_type": "code",
   "execution_count": 1,
   "id": "212e113d",
   "metadata": {},
   "outputs": [],
   "source": [
    "# 7~10분\n",
    "def solution(n):\n",
    "    check=n**0.5\n",
    "    if check%1==0: # 제곱근이면\n",
    "        answer=(int(check)+1)**2\n",
    "    else:\n",
    "        answer=-1\n",
    "    return answer"
   ]
  },
  {
   "cell_type": "markdown",
   "id": "f0d5def5",
   "metadata": {},
   "source": [
    "### 자릿수 더하기"
   ]
  },
  {
   "cell_type": "code",
   "execution_count": 6,
   "id": "52d59945",
   "metadata": {},
   "outputs": [
    {
     "name": "stdout",
     "output_type": "stream",
     "text": [
      "123\n",
      "6\n"
     ]
    }
   ],
   "source": [
    "# 7분\n",
    "N=input()\n",
    "res=0\n",
    "\n",
    "# 시간초과라네\n",
    "# for i in range(N//10,-1,-1):\n",
    "#     res+=N//10**i\n",
    "#     N%=10**i\n",
    "\n",
    "def solution(n):\n",
    "    n=str(n)\n",
    "    res=0\n",
    "\n",
    "    for nu in n:\n",
    "        res+=int(nu)\n",
    "        \n",
    "    return res # 너무 단순한데"
   ]
  },
  {
   "cell_type": "markdown",
   "id": "77828153",
   "metadata": {},
   "source": [
    "### 자연수 뒤집어 배열로 만들기"
   ]
  },
  {
   "cell_type": "code",
   "execution_count": 20,
   "id": "3ac081af",
   "metadata": {},
   "outputs": [
    {
     "name": "stdout",
     "output_type": "stream",
     "text": [
      "12345\n"
     ]
    },
    {
     "data": {
      "text/plain": [
       "[5, 4, 3, 2, 1]"
      ]
     },
     "execution_count": 20,
     "metadata": {},
     "output_type": "execute_result"
    }
   ],
   "source": [
    "# 13분 걸림\n",
    "n=int(input())\n",
    "n=str(n)\n",
    "res=[]\n",
    "for i in range(len(n)-1,-1,-1):\n",
    "    res.append(int(n[i]))\n",
    "\n",
    "res"
   ]
  }
 ],
 "metadata": {
  "kernelspec": {
   "display_name": "Python 3 (ipykernel)",
   "language": "python",
   "name": "python3"
  },
  "language_info": {
   "codemirror_mode": {
    "name": "ipython",
    "version": 3
   },
   "file_extension": ".py",
   "mimetype": "text/x-python",
   "name": "python",
   "nbconvert_exporter": "python",
   "pygments_lexer": "ipython3",
   "version": "3.9.12"
  }
 },
 "nbformat": 4,
 "nbformat_minor": 5
}
