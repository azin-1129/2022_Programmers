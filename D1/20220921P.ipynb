{
 "cells": [
  {
   "cell_type": "markdown",
   "id": "7047bc85",
   "metadata": {},
   "source": [
    "### 문자열 내 p와 y의 개수"
   ]
  },
  {
   "cell_type": "code",
   "execution_count": 7,
   "id": "76660e34",
   "metadata": {},
   "outputs": [],
   "source": [
    "# 7분 소요\n",
    "\n",
    "def solution(s):\n",
    "    if s.count('p')+s.count('P') == s.count('y')+s.count('Y'):\n",
    "        return True\n",
    "    return False"
   ]
  },
  {
   "cell_type": "markdown",
   "id": "718093c0",
   "metadata": {},
   "source": [
    "### 히샤드 수"
   ]
  },
  {
   "cell_type": "code",
   "execution_count": null,
   "id": "02135d1b",
   "metadata": {},
   "outputs": [],
   "source": [
    "# 5분 30초\n",
    "\n",
    "def solution(x):\n",
    "    state=list(map(int,str(x)))\n",
    "    \n",
    "    if x%sum(state)==0:\n",
    "        return True\n",
    "    \n",
    "    return False"
   ]
  },
  {
   "cell_type": "markdown",
   "id": "155f4256",
   "metadata": {},
   "source": [
    "### 정수 내림차순으로 배치하기"
   ]
  },
  {
   "cell_type": "code",
   "execution_count": 18,
   "id": "7d282c4b",
   "metadata": {},
   "outputs": [],
   "source": [
    "# 6분\n",
    "\n",
    "def solution(n):\n",
    "    return int(''.join(str(c) for c in sorted(map(int,str(n)),reverse=True)))"
   ]
  },
  {
   "cell_type": "code",
   "execution_count": 23,
   "id": "2b24a6c7",
   "metadata": {},
   "outputs": [
    {
     "data": {
      "text/plain": [
       "4321"
      ]
     },
     "execution_count": 23,
     "metadata": {},
     "output_type": "execute_result"
    }
   ],
   "source": [
    "int(''.join(sorted('1234',reverse=True))) # 더 짧다"
   ]
  }
 ],
 "metadata": {
  "kernelspec": {
   "display_name": "Python 3 (ipykernel)",
   "language": "python",
   "name": "python3"
  },
  "language_info": {
   "codemirror_mode": {
    "name": "ipython",
    "version": 3
   },
   "file_extension": ".py",
   "mimetype": "text/x-python",
   "name": "python",
   "nbconvert_exporter": "python",
   "pygments_lexer": "ipython3",
   "version": "3.9.12"
  }
 },
 "nbformat": 4,
 "nbformat_minor": 5
}
