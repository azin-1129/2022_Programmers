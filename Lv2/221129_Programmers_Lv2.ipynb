{
  "nbformat": 4,
  "nbformat_minor": 0,
  "metadata": {
    "colab": {
      "provenance": []
    },
    "kernelspec": {
      "name": "python3",
      "display_name": "Python 3"
    },
    "language_info": {
      "name": "python"
    }
  },
  "cells": [
    {
      "cell_type": "code",
      "execution_count": 22,
      "metadata": {
        "colab": {
          "base_uri": "https://localhost:8080/"
        },
        "id": "bqVnESkXIwIr",
        "outputId": "0390c335-c6d6-475b-aa01-30b2c86415ff"
      },
      "outputs": [
        {
          "output_type": "stream",
          "name": "stdout",
          "text": [
            "-1 -1\n",
            "-1 -1\n"
          ]
        }
      ],
      "source": [
        "# 최댓값과 최솟값\n",
        "# colab에선 잘 돌아가지만 프로그래머스는 오류난다.\n",
        "# 19분 30초 소요\n",
        "\n",
        "# def solution(s):\n",
        "#     x=list(map(int,s))\n",
        "#     #answer=' '.join([str(min(x)),str(max(x))])\n",
        "#     a,b=str(min(x)),str(max(x))\n",
        "#     return a,b\n",
        "    \n",
        "def solution(s):\n",
        "    x=list(map(int,s)) # 여기서 s.split() 해줘야했음\n",
        "    answer=str(min(x))+\" \"+str(max(x))\n",
        "    \n",
        "    return answer\n",
        "\n",
        "s=input().split()\n",
        "print(solution(s))"
      ]
    },
    {
      "cell_type": "code",
      "source": [
        "# JadenCase 문자열 만들기\n",
        "# 40분 소요했나? 기억 잘 안남\n",
        "# 조건 주의. 근데 분기가 많아\n",
        "\n",
        "#s=input()\n",
        "\n",
        "# words=list(s.split())\n",
        "word=input()\n",
        "\n",
        "#res=[]\n",
        "\n",
        "# for word in words:\n",
        "\n",
        "temp=\"\"\n",
        "for i in range(len(word)):\n",
        "  if ord(word[i])>ord('z') or ord(word[i])<ord('A'): # 알파벳이 아니라면\n",
        "    temp+=word[i]\n",
        "    continue\n",
        "  \n",
        "  if i==0: # 알파벳 첫번째면\n",
        "    if ord(word[i])>=ord('a'): # 소문자면\n",
        "      temp+=chr(ord(word[i])-32)\n",
        "      continue\n",
        "    else:\n",
        "      temp+=word[i]\n",
        "      continue\n",
        "\n",
        "  if word[i-1]==\" \": # 단어의 첫번째?\n",
        "    if ord(word[i])>=ord('a'):\n",
        "      temp+=chr(ord(word[i])-32) # 대문자화\n",
        "    else:\n",
        "      temp+=word[i]\n",
        "  else:\n",
        "    if ord(word[i])<ord('a'): # 대문자면\n",
        "      temp+=chr(ord(word[i])+32) # 소문자화\n",
        "    else:\n",
        "      temp+=word[i]\n",
        "#res.append(temp)\n",
        "\n",
        "print(temp)"
      ],
      "metadata": {
        "colab": {
          "base_uri": "https://localhost:8080/"
        },
        "id": "NSAoc_ECJECE",
        "outputId": "96cd33e3-ced1-425c-c0a7-1fcf10d54467"
      },
      "execution_count": 59,
      "outputs": [
        {
          "output_type": "stream",
          "name": "stdout",
          "text": [
            "3people               unFollowed Me WEWEaWaW\n",
            "3people               Unfollowed Me Weweawaw\n"
          ]
        }
      ]
    },
    {
      "cell_type": "code",
      "source": [
        "'3people               unFollowed Me WEWEaWaW'.title()"
      ],
      "metadata": {
        "colab": {
          "base_uri": "https://localhost:8080/",
          "height": 35
        },
        "id": "l_CwRzAiKR_6",
        "outputId": "4be286db-a1ba-4b14-98ed-0f90a3ed9969"
      },
      "execution_count": 60,
      "outputs": [
        {
          "output_type": "execute_result",
          "data": {
            "text/plain": [
              "'3People               Unfollowed Me Weweawaw'"
            ],
            "application/vnd.google.colaboratory.intrinsic+json": {
              "type": "string"
            }
          },
          "metadata": {},
          "execution_count": 60
        }
      ]
    },
    {
      "cell_type": "code",
      "source": [
        "# 최솟값 만들기\n",
        "# 6분 소요\n",
        "\n",
        "a=list(map(int,input().split()))\n",
        "b=list(map(int,input().split()))\n",
        "\n",
        "a.sort()\n",
        "b=sorted(b,reverse=True)\n",
        "res=0\n",
        "\n",
        "for i in range(len(a)):\n",
        "  res+=a[i]*b[i]\n",
        "\n",
        "print(res)"
      ],
      "metadata": {
        "colab": {
          "base_uri": "https://localhost:8080/"
        },
        "id": "hlhu03RTNqCp",
        "outputId": "827d3c3f-0c26-4b73-9ca5-6d8c439be6ee"
      },
      "execution_count": 62,
      "outputs": [
        {
          "output_type": "stream",
          "name": "stdout",
          "text": [
            "1 4 2\n",
            "5 4 4\n",
            "29\n"
          ]
        }
      ]
    },
    {
      "cell_type": "code",
      "source": [
        "ord('(')"
      ],
      "metadata": {
        "colab": {
          "base_uri": "https://localhost:8080/"
        },
        "id": "wEeF_rTlZo_7",
        "outputId": "68cb4ac8-9cf5-4d2a-c65c-77a30bf74f28"
      },
      "execution_count": 66,
      "outputs": [
        {
          "output_type": "execute_result",
          "data": {
            "text/plain": [
              "40"
            ]
          },
          "metadata": {},
          "execution_count": 66
        }
      ]
    },
    {
      "cell_type": "code",
      "source": [
        "# 올바른 괄호\n",
        "# 20분 소요\n",
        "\n",
        "s=list(input())\n",
        "l_cnt=0\n",
        "r_cnt=0\n",
        "\n",
        "for ss in s:\n",
        "  if ss=='(':\n",
        "    l_cnt+=1\n",
        "  else:\n",
        "    r_cnt+=1\n",
        "    if r_cnt>l_cnt:\n",
        "      print('False')\n",
        "      break\n",
        "    else:\n",
        "      r_cnt-=1\n",
        "      l_cnt-=1\n",
        "\n",
        "if r_cnt!=0 or l_cnt!=0:\n",
        "  print('False') \n",
        "else:\n",
        "  print('True')"
      ],
      "metadata": {
        "colab": {
          "base_uri": "https://localhost:8080/"
        },
        "id": "JuUZ97s4YNJl",
        "outputId": "4e77a72c-e87b-4c41-8fdf-4dbc9f38e030"
      },
      "execution_count": 75,
      "outputs": [
        {
          "output_type": "stream",
          "name": "stdout",
          "text": [
            "()()\n",
            "True\n"
          ]
        }
      ]
    },
    {
      "cell_type": "code",
      "source": [],
      "metadata": {
        "id": "QM4UM4OKZX_J"
      },
      "execution_count": null,
      "outputs": []
    }
  ]
}